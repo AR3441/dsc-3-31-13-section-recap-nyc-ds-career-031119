{
 "cells": [
  {
   "cell_type": "markdown",
   "metadata": {},
   "source": [
    "# Section Recap"
   ]
  },
  {
   "cell_type": "markdown",
   "metadata": {},
   "source": [
    "## Introduction\n",
    "\n",
    "This short lesson summarizes key takeaways from section 30"
   ]
  },
  {
   "cell_type": "markdown",
   "metadata": {},
   "source": [
    "## Objectives\n",
    "You will be able to:\n",
    "* Understand and explain what was covered in this section\n",
    "* Understand and explain why this section will help you become a data scientist"
   ]
  },
  {
   "cell_type": "markdown",
   "metadata": {},
   "source": [
    "## Key Takeaways\n",
    "\n",
    "The key takeaways from this section include:\n",
    "* Parameters are the \"settings\" for a given model - for a linear model in the form y = mx + c, the parameters are m and c\n",
    "* Maximum Likelihood Estimation returns the values for the parameters of a model that maximize the chance that the observations were created by that model\n",
    "* When calculating maximum likelihood we often use a log likelihood to simplify calculations (allowing us to decompose products into simpler sums)\n",
    "* It's important to consider algorithmic bias when building models as biased observations will tend to generate a biased model (if banks are less likely to provide loans to African Americans, a model trained on such data is likely to perpetuate that bias)\n",
    "* Gradient descent is a method for traversing a cost curve to find a local minima or maxima (or saddle point)\n",
    "* A sigmoid function can be used to map a linear regression model to a range from 0 to 1, allowing for a logistic regression which can be used as a binary classifier\n",
    "* A regularization parameter can be used to apply a cost to overfitting, reducing the likelihood of overfitting your model\n"
   ]
  }
 ],
 "metadata": {
  "kernelspec": {
   "display_name": "Python 3",
   "language": "python",
   "name": "python3"
  },
  "language_info": {
   "codemirror_mode": {
    "name": "ipython",
    "version": 3
   },
   "file_extension": ".py",
   "mimetype": "text/x-python",
   "name": "python",
   "nbconvert_exporter": "python",
   "pygments_lexer": "ipython3",
   "version": "3.6.6"
  }
 },
 "nbformat": 4,
 "nbformat_minor": 2
}
