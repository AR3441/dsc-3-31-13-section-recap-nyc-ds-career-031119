{
 "cells": [
  {
   "cell_type": "markdown",
   "metadata": {},
   "source": [
    "# Section Recap"
   ]
  },
  {
   "cell_type": "markdown",
   "metadata": {},
   "source": [
    "## Introduction\n",
    "\n",
    "This short lesson summarizes key takeaways from section 28"
   ]
  },
  {
   "cell_type": "markdown",
   "metadata": {},
   "source": [
    "## Objectives\n",
    "You will be able to:\n",
    "* Understand and explain what was covered in this section\n",
    "* Understand and explain why this section will help you become a data scientist"
   ]
  },
  {
   "cell_type": "markdown",
   "metadata": {},
   "source": [
    "## Key Takeaways\n",
    "\n",
    "The key takeaways from this section include:\n",
    "* One way of modeling certain types of data is using a graph\n",
    "* A graph is comprised of nodes (sometimes called vertices or points) connected by edges (sometimes called arcs or lines)\n",
    "* Edges can be uni-or bidirectional (I buy from a local suopermarket, but the supermarket may not buy from me - unless I run a dairy farm)\n",
    "* Edges can also be weighted (length of friendship, distance between two locations, how many stars someone rated a movie, etc)\n",
    "* Nodes are adjacent if there is at least one edge connecting them\n",
    "* In an undirected graph, the degree of a node is the number of edges connected to the node\n",
    "* In a directed graph, the indegree is the number of edges arriving at the node and the outdegree is the number of edges departing the node\n",
    "* An isolated node is one with a degree of 0\n",
    "* A path is a specific way to get from one node to another via 1..n edges\n",
    "* Two ways of serializing (saving to simple text files) graph data are edge lists and adjacency matrices\n",
    "* Dijkstra's algorithm is a popular algorithm for finding the shortest path between two given nodes\n",
    "* Degree centrality refers to the percentage of nodes in a graph that a given node is directly connected to\n",
    "* Closeness centrality measures how many edges a you'd have to traverse from a starting node to reach every other node in the network (think of it as the \"average distance\" to all other nodes)\n",
    "* Betweenness centrality measures the number of times a node acts as a brideg along the shortest path between two other nodes\n",
    "* Eigenvector centrality is high if a node is connected to many well connected nodes\n",
    "* Bipartite graphs are graphs where nodes in each of two sets have edges connecting to nodes in the other set but no nodes in their own set\n",
    "* Communities (also called partitions, clusters and groupings) are sets of nodes that are more densely connected to each other than to the rest of the graph\n",
    "* The Grivan-Newman algorithm can be used to detect communbities by progressively removing edges from the original graph\n",
    "* A clique is a subset of nodes in an undirected graph where every two distinct nodes are adjacent\n",
    "* A k-clique community is the union of all cliques of size k that can be reached through adjacent (sharing k-1 nodes) k-cliques\n",
    "* The island method can be used to identify highly connected communities\n",
    "* An ego network consists of a focal node (\"ego\") and the nodes to whom the ego node is directly connected to (these are called \"alters\") plus the edges, if any, among the alters\n"
   ]
  }
 ],
 "metadata": {
  "kernelspec": {
   "display_name": "Python 3",
   "language": "python",
   "name": "python3"
  },
  "language_info": {
   "codemirror_mode": {
    "name": "ipython",
    "version": 3
   },
   "file_extension": ".py",
   "mimetype": "text/x-python",
   "name": "python",
   "nbconvert_exporter": "python",
   "pygments_lexer": "ipython3",
   "version": "3.6.6"
  }
 },
 "nbformat": 4,
 "nbformat_minor": 2
}
